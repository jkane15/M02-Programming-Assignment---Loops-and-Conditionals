{
 "cells": [
  {
   "cell_type": "markdown",
   "id": "9beafd19-21d3-46c2-ad72-df81bce2daf1",
   "metadata": {},
   "source": [
    "4.1 - Choose a number between 1 and 10 and assign it to the variable 'secret'."
   ]
  },
  {
   "cell_type": "code",
   "execution_count": 4,
   "id": "14015374-259c-472b-a488-24fd92930c0e",
   "metadata": {},
   "outputs": [
    {
     "name": "stdout",
     "output_type": "stream",
     "text": [
      "The secret number is: 7\n"
     ]
    }
   ],
   "source": [
    "import random\n",
    "secret = random.randint(1, 10)\n",
    "print(f\"The secret number is: {secret}\")"
   ]
  },
  {
   "cell_type": "markdown",
   "id": "1ec1dbf5-0dba-4254-be0f-934af58e78e2",
   "metadata": {},
   "source": [
    "Then, select another number between 1 and 10 and assign it to the variable 'guess'. "
   ]
  },
  {
   "cell_type": "code",
   "execution_count": 6,
   "id": "c462a215-53d9-477e-a294-c01085776d20",
   "metadata": {},
   "outputs": [
    {
     "name": "stdin",
     "output_type": "stream",
     "text": [
      "Guess a number between 1 and 10:  6\n"
     ]
    },
    {
     "name": "stdout",
     "output_type": "stream",
     "text": [
      "You have guessed: 6\n"
     ]
    }
   ],
   "source": [
    "guess = int(input(\"Guess a number between 1 and 10: \"))\n",
    "while guess < 1 or guess > 10:\n",
    "    print(\"Invalid input. Please guess a number between 1 and 10.\")\n",
    "    guess = int(input(\"Guess a number between 1 and 10: \"))\n",
    "print(f\"You have guessed: {guess}\")"
   ]
  },
  {
   "cell_type": "markdown",
   "id": "56a36d2d-8de8-4fda-819a-e652203a42e8",
   "metadata": {},
   "source": [
    "Next, write the conditional tests (if, else, and elif) to print the string 'too low' if guess is less than secret, 'too high' if greater than secret, and 'just right' if equal to secret."
   ]
  },
  {
   "cell_type": "code",
   "execution_count": null,
   "id": "1f7aeac9-e15d-44dd-a5f3-febecbf44703",
   "metadata": {},
   "outputs": [],
   "source": [
    "if guess < secret:\n",
    "    print(\"Too low\")\n",
    "elif guess > secret:\n",
    "    print(\"Too high\")\n",
    "else:\n",
    "    print(\"Just right\")"
   ]
  },
  {
   "cell_type": "markdown",
   "id": "fb133d50-012c-47df-bb19-21398d129b8c",
   "metadata": {},
   "source": [
    "Put it all together "
   ]
  },
  {
   "cell_type": "code",
   "execution_count": 8,
   "id": "b6e249ee-1416-4baa-8f57-9776aee7d3db",
   "metadata": {},
   "outputs": [
    {
     "name": "stdin",
     "output_type": "stream",
     "text": [
      "Guess a number between 1 and 10:  5\n"
     ]
    },
    {
     "name": "stdout",
     "output_type": "stream",
     "text": [
      "You have guessed: 5\n",
      "Too low\n"
     ]
    }
   ],
   "source": [
    "import random\n",
    "secret = random.randint(1, 10)\n",
    "\n",
    "guess = int(input(\"Guess a number between 1 and 10: \"))\n",
    "while guess < 1 or guess > 10:\n",
    "    print(\"Invalid input. Please guess a number between 1 and 10.\")\n",
    "    guess = int(input(\"Guess a number between 1 and 10: \"))\n",
    "print(f\"You have guessed: {guess}\")\n",
    "\n",
    "if guess < secret:\n",
    "    print(\"Too low\")\n",
    "elif guess > secret:\n",
    "    print(\"Too high\")\n",
    "else:\n",
    "    print(\"Just right\")"
   ]
  },
  {
   "cell_type": "markdown",
   "id": "00c6c70d-59bf-430c-b264-98a345d2a445",
   "metadata": {},
   "source": [
    "4.2 - Assign True or False to the variables small and green. Write some if/else statements to print which of these matches those choices: cherry, pea, watermelon, pumpkin."
   ]
  },
  {
   "cell_type": "code",
   "execution_count": 10,
   "id": "645c973b-3fb5-492f-99ef-e8f5a1dc06a4",
   "metadata": {},
   "outputs": [
    {
     "name": "stdout",
     "output_type": "stream",
     "text": [
      "cherry is small and green.\n",
      "pea is small and green.\n",
      "watermelon is small but not green.\n",
      "pumpkin is green but not small.\n"
     ]
    }
   ],
   "source": [
    "choices = ['cherry', 'pea', 'watermelon', 'pumpkin']\n",
    "\n",
    "small = False\n",
    "green = False\n",
    "\n",
    "for choice in choices:\n",
    "    if choice == 'cherry':\n",
    "        small = True\n",
    "    elif choice == 'pea':\n",
    "        green = True\n",
    "\n",
    "for choice in choices:\n",
    "    if (small and choice == 'cherry') or (green and choice == 'pea'):\n",
    "        print(f\"{choice} is small and green.\")\n",
    "    elif small and choice == 'watermelon':\n",
    "        print(f\"{choice} is small but not green.\")\n",
    "    elif green and choice == 'pumpkin':\n",
    "        print(f\"{choice} is green but not small.\")\n",
    "    else:\n",
    "        print(f\"{choice} is neither small nor green.\")"
   ]
  },
  {
   "cell_type": "markdown",
   "id": "a7c23b30-8443-4d89-8935-a79eb1c82a11",
   "metadata": {},
   "source": [
    "6.1 - Use a for loop to print the values of the list [3, 2, 1, 0]."
   ]
  },
  {
   "cell_type": "code",
   "execution_count": 11,
   "id": "a3afe547-6f02-44ff-b37e-9a470cf2ae87",
   "metadata": {},
   "outputs": [
    {
     "name": "stdout",
     "output_type": "stream",
     "text": [
      "3\n",
      "2\n",
      "1\n",
      "0\n"
     ]
    }
   ],
   "source": [
    "numbers = [3, 2, 1, 0]\n",
    "for num in numbers:\n",
    "    print(num)"
   ]
  },
  {
   "cell_type": "markdown",
   "id": "73ab587b-1c36-40a6-9723-54bceae04fa3",
   "metadata": {},
   "source": [
    "6.2 - Assign the value 7 to the variable guess_me, and the value 1 to the variable number. Write a while loop that compares number with guess_me. Print 'too low' if number is less than guess me. If number equals guess_me, print 'found it!' and then exit the loop. If number is greater than guess_me, print 'oops' and then exit the loop. Increment number at the end of the loop."
   ]
  },
  {
   "cell_type": "code",
   "execution_count": 12,
   "id": "7b464543-f915-44c3-998f-febc404b7a73",
   "metadata": {},
   "outputs": [
    {
     "name": "stdout",
     "output_type": "stream",
     "text": [
      "too low\n",
      "too low\n",
      "too low\n",
      "too low\n",
      "too low\n",
      "too low\n",
      "found it!\n"
     ]
    }
   ],
   "source": [
    "guess_me = 7\n",
    "number = 1\n",
    "\n",
    "while number <= guess_me:\n",
    "    if number < guess_me:\n",
    "        print('too low')\n",
    "    elif number == guess_me:\n",
    "        print('found it!')\n",
    "        break  \n",
    "    else:\n",
    "        print('oops')\n",
    "        break  \n",
    "    number += 1  "
   ]
  },
  {
   "cell_type": "markdown",
   "id": "0f040367-d90f-4549-ad1c-8770ce8880cd",
   "metadata": {},
   "source": [
    "6.3 - Assign the value 5 to the variable guess_me. Use a for loop to iterate a variable called number over range(10). If number is less than guess_me, print 'too low'. If it equals guess_me, print found it! and then break out of the for loop. If number is greater than guess_me, print 'oops' and then exit the loop."
   ]
  },
  {
   "cell_type": "code",
   "execution_count": null,
   "id": "2a64a057-0efd-4c35-b10f-d7260c3ca76a",
   "metadata": {},
   "outputs": [],
   "source": [
    "guess_me = 5\n",
    "\n",
    "for number in range(10):\n",
    "    if number < guess_me:\n",
    "        print('too low')\n",
    "    elif number == guess_me:\n",
    "        print('found it!')\n",
    "        break  \n",
    "    else:\n",
    "        print('oops')\n",
    "        break  \n"
   ]
  }
 ],
 "metadata": {
  "kernelspec": {
   "display_name": "Python 3 (ipykernel)",
   "language": "python",
   "name": "python3"
  },
  "language_info": {
   "codemirror_mode": {
    "name": "ipython",
    "version": 3
   },
   "file_extension": ".py",
   "mimetype": "text/x-python",
   "name": "python",
   "nbconvert_exporter": "python",
   "pygments_lexer": "ipython3",
   "version": "3.11.7"
  }
 },
 "nbformat": 4,
 "nbformat_minor": 5
}
